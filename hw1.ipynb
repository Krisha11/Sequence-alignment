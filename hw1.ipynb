{
 "cells": [
  {
   "cell_type": "code",
   "execution_count": 95,
   "metadata": {},
   "outputs": [],
   "source": [
    "w = [[0, -1, -1, -1],\n",
    "     [-1, 1, -1, -1],\n",
    "     [-1, -1, 1, -1],\n",
    "     [-1, -1, -1, 1]]"
   ]
  },
  {
   "cell_type": "code",
   "execution_count": 96,
   "metadata": {},
   "outputs": [],
   "source": [
    "a = \"ABCA\"\n",
    "b = \"ABAA\""
   ]
  },
  {
   "cell_type": "code",
   "execution_count": 97,
   "metadata": {},
   "outputs": [
    {
     "name": "stdout",
     "output_type": "stream",
     "text": [
      "ABCA ABAA\n"
     ]
    }
   ],
   "source": [
    "n, m = len(a), len(b)\n",
    "\n",
    "l = [[-inf]*(m + 1) for i in range(0, n + 1)]\n",
    "\n",
    "l[0][0] = 0\n",
    "for i in range(1, m + 1) :\n",
    "    ch_b = ord(b[i - 1]) - ord('A') + 1\n",
    "    l[0][i] = l[0][i - 1] + w[0][ch_b]\n",
    "for i in range(1, n + 1) :\n",
    "    ch_a = ord(a[i - 1]) - ord('A') + 1\n",
    "    l[i][0] = l[i - 1][0] + w[ch_a][0]\n",
    "\n",
    "for i in range(1, n + 1) :\n",
    "    for j in range(1, m + 1) :\n",
    "        ch_a = ord(a[i - 1]) - ord('A') + 1\n",
    "        ch_b = ord(b[j - 1]) - ord('A') + 1\n",
    "        l[i][j] = max(l[i][j], l[i - 1][j - 1] + w[ch_a][ch_b])\n",
    "        l[i][j] = max(l[i][j], l[i - 1][j] + w[ch_a][0])\n",
    "        l[i][j] = max(l[i][j], l[i][j - 1] + w[0][ch_b])\n",
    "\n",
    "s1, s2 = [], []\n",
    "i, j = n, m\n",
    "\n",
    "while i > 0 or j > 0 :\n",
    "    ch_a = ord(a[i - 1]) - ord('A') + 1\n",
    "    ch_b = ord(b[j - 1]) - ord('A') + 1\n",
    "    if i > 0 and l[i][j] == l[i - 1][j] + w[ch_a][0] :\n",
    "        s1.append(a[i - 1])\n",
    "        s2.append('_')\n",
    "        i, j = i - 1, j\n",
    "    elif j > 0 and l[i][j] == l[i][j - 1] + w[0][ch_b]:\n",
    "        s1.append('_')\n",
    "        s2.append(b[j - 1])\n",
    "        i, j = i, j - 1\n",
    "    else :\n",
    "        s1.append(a[i - 1])\n",
    "        s2.append(b[j - 1])\n",
    "        i, j = i - 1, j - 1\n",
    "\n",
    "\n",
    "first_s1 = ''.join(s1[::-1])\n",
    "first_s2 = ''.join(s2[::-1])\n",
    "\n",
    "print(first_s1, first_s2)"
   ]
  },
  {
   "cell_type": "markdown",
   "metadata": {},
   "source": [
    "Теперь измененения!"
   ]
  },
  {
   "cell_type": "code",
   "execution_count": 98,
   "metadata": {},
   "outputs": [],
   "source": [
    "w[3][1] = -1000"
   ]
  },
  {
   "cell_type": "code",
   "execution_count": 99,
   "metadata": {},
   "outputs": [
    {
     "name": "stdout",
     "output_type": "stream",
     "text": [
      "ABCA_ AB_AA\n"
     ]
    }
   ],
   "source": [
    "n, m = len(a), len(b)\n",
    "\n",
    "l = [[-inf]*(m + 1) for i in range(0, n + 1)]\n",
    "\n",
    "l[0][0] = 0\n",
    "for i in range(1, m + 1) :\n",
    "    ch_b = ord(b[i - 1]) - ord('A') + 1\n",
    "    l[0][i] = l[0][i - 1] + w[0][ch_b]\n",
    "for i in range(1, n + 1) :\n",
    "    ch_a = ord(a[i - 1]) - ord('A') + 1\n",
    "    l[i][0] = l[i - 1][0] + w[ch_a][0]\n",
    "\n",
    "for i in range(1, n + 1) :\n",
    "    for j in range(1, m + 1) :\n",
    "        ch_a = ord(a[i - 1]) - ord('A') + 1\n",
    "        ch_b = ord(b[j - 1]) - ord('A') + 1\n",
    "        l[i][j] = max(l[i][j], l[i - 1][j - 1] + w[ch_a][ch_b])\n",
    "        l[i][j] = max(l[i][j], l[i - 1][j] + w[ch_a][0])\n",
    "        l[i][j] = max(l[i][j], l[i][j - 1] + w[0][ch_b])\n",
    "\n",
    "s1, s2 = [], []\n",
    "i, j = n, m\n",
    "\n",
    "\n",
    "while i > 0 or j > 0 :\n",
    "    ch_a = ord(a[i - 1]) - ord('A') + 1\n",
    "    ch_b = ord(b[j - 1]) - ord('A') + 1\n",
    "    if i > 0 and l[i][j] == l[i - 1][j] + w[ch_a][0] :\n",
    "        s1.append(a[i - 1])\n",
    "        s2.append('_')\n",
    "        i, j = i - 1, j\n",
    "    elif j > 0 and l[i][j] == l[i][j - 1] + w[0][ch_b]:\n",
    "        s1.append('_')\n",
    "        s2.append(b[j - 1])\n",
    "        i, j = i, j - 1\n",
    "    else :\n",
    "        s1.append(a[i - 1])\n",
    "        s2.append(b[j - 1])\n",
    "        i, j = i - 1, j - 1\n",
    "\n",
    "second_s1 = ''.join(s1[::-1])\n",
    "second_s2 = ''.join(s2[::-1])\n",
    "\n",
    "print(second_s1, second_s2)"
   ]
  },
  {
   "cell_type": "markdown",
   "metadata": {},
   "source": [
    "Результаты на 1 таблице:"
   ]
  },
  {
   "cell_type": "code",
   "execution_count": 100,
   "metadata": {},
   "outputs": [
    {
     "data": {
      "text/plain": [
       "('ABCA', 'ABAA')"
      ]
     },
     "execution_count": 100,
     "metadata": {},
     "output_type": "execute_result"
    }
   ],
   "source": [
    "first_s1, first_s2"
   ]
  },
  {
   "cell_type": "markdown",
   "metadata": {},
   "source": [
    "Результаты на 2 таблице:"
   ]
  },
  {
   "cell_type": "code",
   "execution_count": 101,
   "metadata": {},
   "outputs": [
    {
     "data": {
      "text/plain": [
       "('ABCA_', 'AB_AA')"
      ]
     },
     "execution_count": 101,
     "metadata": {},
     "output_type": "execute_result"
    }
   ],
   "source": [
    "second_s1, second_s2"
   ]
  }
 ],
 "metadata": {
  "kernelspec": {
   "display_name": "Python 3",
   "language": "python",
   "name": "python3"
  },
  "language_info": {
   "codemirror_mode": {
    "name": "ipython",
    "version": 3
   },
   "file_extension": ".py",
   "mimetype": "text/x-python",
   "name": "python",
   "nbconvert_exporter": "python",
   "pygments_lexer": "ipython3",
   "version": "3.8.0b4"
  }
 },
 "nbformat": 4,
 "nbformat_minor": 4
}
